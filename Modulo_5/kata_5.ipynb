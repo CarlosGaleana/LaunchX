{
 "cells": [
  {
   "cell_type": "markdown",
   "metadata": {},
   "source": [
    "Carlos Alberto Galeana Betancourt\n",
    "06/02/2022"
   ]
  },
  {
   "cell_type": "markdown",
   "metadata": {},
   "source": [
    "# Ejercicio1 - Utilizar operadores aritméticos\n",
    "Exploremos cómo podemos crear un programa que pueda calcular la distancia entre dos planetas. Comenzaremos usando dos distancias de planetas: Tierra (149.597.870 km) y Júpiter (778.547.200 km)."
   ]
  },
  {
   "cell_type": "code",
   "execution_count": 5,
   "metadata": {},
   "outputs": [],
   "source": [
    "# Crear variables para almacenar las dos distancias\n",
    "# ¡Asegúrate de quitar las comas!\n",
    "d_tierra  = 149597870\n",
    "d_jupiter = 778547200"
   ]
  },
  {
   "cell_type": "code",
   "execution_count": 6,
   "metadata": {},
   "outputs": [
    {
     "name": "stdout",
     "output_type": "stream",
     "text": [
      "La distancia en kilómetros es: 628949330 km\n",
      "La distancia en millas es: 1012195830.53952 mi\n"
     ]
    }
   ],
   "source": [
    "# Calcular la distancia entre planetas\n",
    "d_entre_planetas   = d_jupiter-d_tierra #expresada en kilómetros\n",
    "d_entre_planetas_m = d_entre_planetas*1.609344 #expresada en millas\n",
    "\n",
    "print(\"\"\"La distancia en kilómetros es: {d1} km\n",
    "La distancia en millas es: {d2} mi\"\"\".format(d1=d_entre_planetas,d2=d_entre_planetas_m))"
   ]
  },
  {
   "cell_type": "markdown",
   "metadata": {},
   "source": [
    "# Ejercicio 2: convierte cadenas en números y usa valores absolutos\n",
    "Para crear nuestra aplicación, queremos leer la distancia del sol para dos planetas, y luego mostrar la distancia entre los planetas. Haremos esto usando input para leer los valores, int para convertir a entero y luego abs para convertir el resultado en su valor absoluto."
   ]
  },
  {
   "cell_type": "code",
   "execution_count": 7,
   "metadata": {},
   "outputs": [],
   "source": [
    "# Almacenar las entradas del usuario\n",
    "#Pista: variable = input(\"¿Cuál es tu nombre?\")\n",
    "d_planeta1 = input(\"¿Cúal es la distancia desde el sol del planeta 1:\")\n",
    "d_planeta2 = input(\"¿Cúal es la distancia desde el sol del planeta 2:\")"
   ]
  },
  {
   "cell_type": "code",
   "execution_count": 8,
   "metadata": {},
   "outputs": [],
   "source": [
    "# Convierte las cadenas de ambos planetas a números enteros\n",
    "d_planeta1_i = int(d_planeta1)\n",
    "d_planeta2_i = int(d_planeta2)"
   ]
  },
  {
   "cell_type": "code",
   "execution_count": 9,
   "metadata": {},
   "outputs": [
    {
     "name": "stdout",
     "output_type": "stream",
     "text": [
      "La distancia en kilómetros es: 91700000 km\n",
      "La distancia en millas es: 147576844.8 mi\n"
     ]
    }
   ],
   "source": [
    "# Realizar el cálculo y determinar el valor absoluto\n",
    "distancia   = abs(d_planeta2_i-d_planeta1_i) #distancia en kilómetros\n",
    "\n",
    "# Convertir de KM a Millas\n",
    "distancia_m = distancia*1.609344 #expresada en millas\n",
    "\n",
    "print(\"\"\"La distancia en kilómetros es: {d1} km\n",
    "La distancia en millas es: {d2} mi\"\"\".format(d1=distancia,d2=distancia_m))"
   ]
  }
 ],
 "metadata": {
  "interpreter": {
   "hash": "2cd63ce63154444726240f42c6fe807ce681eaf47a3b53b1ec212fa1835093ee"
  },
  "kernelspec": {
   "display_name": "Python 3.10.2 64-bit (windows store)",
   "language": "python",
   "name": "python3"
  },
  "language_info": {
   "codemirror_mode": {
    "name": "ipython",
    "version": 3
   },
   "file_extension": ".py",
   "mimetype": "text/x-python",
   "name": "python",
   "nbconvert_exporter": "python",
   "pygments_lexer": "ipython3",
   "version": "3.10.2"
  },
  "orig_nbformat": 4
 },
 "nbformat": 4,
 "nbformat_minor": 2
}
